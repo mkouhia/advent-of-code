{
 "cells": [
  {
   "cell_type": "code",
   "execution_count": 30,
   "id": "17872b6c-9c30-41cd-bfeb-745f225181b5",
   "metadata": {},
   "outputs": [
    {
     "name": "stdout",
     "output_type": "stream",
     "text": [
      "0: (0, 1),\n",
      "1: (-1, 0),\n",
      "2: (0, -1),\n",
      "3: (-1, 0),\n"
     ]
    }
   ],
   "source": [
    "dirs = [0, 1, 2, 3]\n",
    "for d in dirs:\n",
    "    dx = (1 - d % 2) * (1 if d < 1 else -1)\n",
    "    dy = (d % 2) * (1 if d < 1 else -1)\n",
    "    print(f\"{d}: ({dy}, {dx}),\")"
   ]
  },
  {
   "cell_type": "code",
   "execution_count": 34,
   "id": "9b1683a7-8ccc-4516-adf4-caa5372c21b6",
   "metadata": {},
   "outputs": [
    {
     "data": {
      "text/plain": [
       "0"
      ]
     },
     "execution_count": 34,
     "metadata": {},
     "output_type": "execute_result"
    }
   ],
   "source": [
    "(3 + 1) % 4"
   ]
  },
  {
   "cell_type": "code",
   "execution_count": 35,
   "id": "9ac184b8-88e9-443f-be67-1b9d5be47cdf",
   "metadata": {},
   "outputs": [
    {
     "data": {
      "text/plain": [
       "[(-1, 0), (-1, 1), (-1, 2), (-1, 3), (-1, 4), (-1, 5), (-1, 6)]"
      ]
     },
     "execution_count": 35,
     "metadata": {},
     "output_type": "execute_result"
    }
   ],
   "source": [
    "import itertools\n",
    "\n",
    "list(itertools.product([-1], range(7)))"
   ]
  }
 ],
 "metadata": {
  "kernelspec": {
   "display_name": "Python 3 (ipykernel)",
   "language": "python",
   "name": "python3"
  },
  "language_info": {
   "codemirror_mode": {
    "name": "ipython",
    "version": 3
   },
   "file_extension": ".py",
   "mimetype": "text/x-python",
   "name": "python",
   "nbconvert_exporter": "python",
   "pygments_lexer": "ipython3",
   "version": "3.11.2"
  }
 },
 "nbformat": 4,
 "nbformat_minor": 5
}
