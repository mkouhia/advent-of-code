{
 "cells": [
  {
   "cell_type": "code",
   "execution_count": 1,
   "id": "88d75ed6-5513-483b-979f-63407ef5f460",
   "metadata": {},
   "outputs": [],
   "source": [
    "import numpy as np\n",
    "\n",
    "import matplotlib.pyplot as plt\n",
    "\n",
    "import matplotlib.patches as patches\n",
    "from matplotlib.path import Path"
   ]
  },
  {
   "cell_type": "code",
   "execution_count": 18,
   "id": "d881f7fc-f02c-47a7-aeb8-8699de9956de",
   "metadata": {},
   "outputs": [
    {
     "name": "stdout",
     "output_type": "stream",
     "text": [
      "(1, 1) S\n",
      "(1, 8) 7\n",
      "(7, 8) J\n",
      "(7, 5) L\n",
      "(5, 5) F\n",
      "(5, 7) J\n",
      "(2, 7) 7\n",
      "(2, 2) F\n",
      "(5, 2) L\n",
      "(5, 4) 7\n",
      "(7, 4) J\n",
      "(7, 1) L\n"
     ]
    },
    {
     "data": {
      "image/png": "[encoded data removed]",
      "text/plain": [
       "<Figure size 640x480 with 1 Axes>"
      ]
     },
     "metadata": {},
     "output_type": "display_data"
    }
   ],
   "source": [
    "maze = \"\"\"..........\n",
    ".S------7.\n",
    ".|F----7|.\n",
    ".||OOOO||.\n",
    ".||OOOO||.\n",
    ".|L-7F-J|.\n",
    ".|II||II|.\n",
    ".L--JL--J.\n",
    "..........\n",
    "\"\"\".strip().splitlines()\n",
    "\n",
    "\n",
    "def _char(i, j):\n",
    "    return maze[i][j]\n",
    "\n",
    "\n",
    "edge_pts = [\n",
    "    (1, 1),\n",
    "    (1, 2),\n",
    "    (1, 3),\n",
    "    (1, 4),\n",
    "    (1, 5),\n",
    "    (1, 6),\n",
    "    (1, 7),\n",
    "    (1, 8),\n",
    "    (2, 8),\n",
    "    (3, 8),\n",
    "    (4, 8),\n",
    "    (5, 8),\n",
    "    (6, 8),\n",
    "    (7, 8),\n",
    "    (7, 7),\n",
    "    (7, 6),\n",
    "    (7, 5),\n",
    "    (6, 5),\n",
    "    (5, 5),\n",
    "    (5, 6),\n",
    "    (5, 7),\n",
    "    (4, 7),\n",
    "    (3, 7),\n",
    "    (2, 7),\n",
    "    (2, 6),\n",
    "    (2, 5),\n",
    "    (2, 4),\n",
    "    (2, 3),\n",
    "    (2, 2),\n",
    "    (3, 2),\n",
    "    (4, 2),\n",
    "    (5, 2),\n",
    "    (5, 3),\n",
    "    (5, 4),\n",
    "    (6, 4),\n",
    "    (7, 4),\n",
    "    (7, 3),\n",
    "    (7, 2),\n",
    "    (7, 1),\n",
    "    (6, 1),\n",
    "    (5, 1),\n",
    "    (4, 1),\n",
    "    (3, 1),\n",
    "    (2, 1),\n",
    "]\n",
    "\n",
    "for p in edge_pts:\n",
    "    if _char(*p) not in \"-|\":\n",
    "        print(p, _char(*p))\n",
    "\n",
    "verts = [\n",
    "    # edge_pts,\n",
    "    [p for p in edge_pts if _char(*p) not in \"-|\"]\n",
    "    + [edge_pts[0]],\n",
    "]\n",
    "\n",
    "\n",
    "fig, ax = plt.subplots()\n",
    "for v in verts:\n",
    "    path = Path(v, closed=False)\n",
    "    patch = patches.PathPatch(path)\n",
    "    ax.add_patch(patch)\n",
    "ax.set_xlim(0, len(maze[0]))\n",
    "ax.set_ylim(0, len(maze[1]))\n",
    "plt.show()"
   ]
  }
 ],
 "metadata": {
  "kernelspec": {
   "display_name": "Python 3 (ipykernel)",
   "language": "python",
   "name": "python3"
  },
  "language_info": {
   "codemirror_mode": {
    "name": "ipython",
    "version": 3
   },
   "file_extension": ".py",
   "mimetype": "text/x-python",
   "name": "python",
   "nbconvert_exporter": "python",
   "pygments_lexer": "ipython3",
   "version": "3.11.2"
  }
 },
 "nbformat": 4,
 "nbformat_minor": 5
}
